{
  "nbformat": 4,
  "nbformat_minor": 0,
  "metadata": {
    "colab": {
      "provenance": [],
      "authorship_tag": "ABX9TyMNJEN/rQewJ5mQnrZN+ds4",
      "include_colab_link": true
    },
    "kernelspec": {
      "name": "python3",
      "display_name": "Python 3"
    },
    "language_info": {
      "name": "python"
    }
  },
  "cells": [
    {
      "cell_type": "markdown",
      "metadata": {
        "id": "view-in-github",
        "colab_type": "text"
      },
      "source": [
        "<a href=\"https://colab.research.google.com/github/upcarreira/Meu-Portfolio/blob/main/ChatBot_Assistente_Financas_Google_GeminiPRO.ipynb\" target=\"_parent\"><img src=\"https://colab.research.google.com/assets/colab-badge.svg\" alt=\"Open In Colab\"/></a>"
      ]
    },
    {
      "cell_type": "markdown",
      "source": [
        "# ChatBot Finanças Expert AI"
      ],
      "metadata": {
        "id": "v_VBO9dVO9Vo"
      }
    },
    {
      "cell_type": "markdown",
      "source": [
        "# 1. Instalação das Bibliotecas:"
      ],
      "metadata": {
        "id": "R2CV-d33POU2"
      }
    },
    {
      "cell_type": "code",
      "source": [
        "!pip install -q -U google-generativeai\n",
        "!pip install pdfplumber\n",
        "!pip install nltk\n",
        "!pip install numpy"
      ],
      "metadata": {
        "id": "s6pR7BOnPSBU"
      },
      "execution_count": null,
      "outputs": []
    },
    {
      "cell_type": "markdown",
      "source": [
        "# Chatbot Assistente de Finanças com Google Gemini Pro a partir de um PDF de Guia de Finanças\n",
        "\n",
        "O Código lê um PDF enviado para a raiz do sistema, ele tokeniza os textos e inseri no prompt do contexto da conversa do Gemini com  usuário. Interessante é que ele resumi textos complexos como esse Guia e traduz para o usuário poder conversar com o Chatbot. O grande desafio é a qualidade desse resumo e o maximo numero de Tokens que voce pode inserir no prompt, fizemos esse controle em max_user_input_length=256, pode-se testar diferente valores para testar o modelo.\n",
        "\n",
        "Sugestões e Melhorias, faça o Fork desse projeto e pode enviar melhorias para mim em meus contatos!\n",
        "\n",
        "Claudio M. Antonio - Dev"
      ],
      "metadata": {
        "id": "QcVGPvi4otq2"
      }
    },
    {
      "cell_type": "code",
      "source": [
        "import google.generativeai as genai\n",
        "import pdfplumber\n",
        "import nltk\n",
        "from nltk.corpus import stopwords\n",
        "from nltk.tokenize import word_tokenize, sent_tokenize\n",
        "from scipy.spatial.distance import cosine\n",
        "import numpy as np\n",
        "from google.colab import userdata\n",
        "# Carregar a chave da API Gemini (necessário para GenAI)\n",
        "api_key = userdata.get('GEMINI_KEY')\n",
        "genai.configure(api_key=api_key)  # Mantenha se quiser usar o GenAI\n",
        "\n",
        "def preprocess_pdf(pdf_path):\n",
        "    \"\"\"\n",
        "    Função para pré-processar o PDF.\n",
        "\n",
        "    Args:\n",
        "        pdf_path: Caminho para o arquivo PDF.\n",
        "\n",
        "    Returns:\n",
        "        str: Texto extraído do PDF.\n",
        "    \"\"\"\n",
        "    with open(pdf_path, 'rb') as pdf_file:\n",
        "        pdf = pdfplumber.open(pdf_file)\n",
        "        pdf_text = ''\n",
        "        for page in pdf.pages:\n",
        "            pdf_text += page.extract_text()\n",
        "    return pdf_text\n",
        "\n",
        "def summarize_text(text, ratio=0.2):\n",
        "    \"\"\"\n",
        "    Função para resumir o texto usando a biblioteca NLTK.\n",
        "\n",
        "    Args:\n",
        "        text: Texto a ser resumido.\n",
        "        ratio: Razão de compressão do resumo (entre 0 e 1).\n",
        "\n",
        "    Returns:\n",
        "        str: Texto resumido.\n",
        "    \"\"\"\n",
        "    # Download necessário apenas na primeira execução\n",
        "    nltk.download('stopwords')\n",
        "    nltk.download('punkt')\n",
        "\n",
        "    stop_words = stopwords.words('portuguese')\n",
        "    word_tokens = word_tokenize(text)\n",
        "    filtered_text = [word for word in word_tokens if word not in stop_words]\n",
        "    sentences = sent_tokenize(text)\n",
        "\n",
        "    sentence_vectors = []\n",
        "    for sentence in sentences:\n",
        "        sentence_words = word_tokenize(sentence.lower())\n",
        "        sentence_vec = []\n",
        "        for word in filtered_text:\n",
        "            if word in sentence_words:\n",
        "                sentence_vec.append(1)\n",
        "            else:\n",
        "                sentence_vec.append(0)\n",
        "        sentence_vectors.append(sentence_vec)\n",
        "\n",
        "    sentence_scores = np.apply_along_axis(lambda vec: cosine(vec, np.sum(sentence_vectors, axis=0)), axis=1, arr=np.array(sentence_vectors))\n",
        "    top_sentences = np.argsort(sentence_scores)[:int(len(sentences) * ratio)]\n",
        "    summary = ' '.join([sentences[idx] for idx in top_sentences])\n",
        "    return summary\n",
        "\n",
        "def chatbot_with_gemini(pdf_path, max_user_input_length=256):\n",
        "    \"\"\"\n",
        "    Função principal para interagir com o chatbot Gemini.\n",
        "\n",
        "    Args:\n",
        "        pdf_path: Caminho para o arquivo PDF.\n",
        "    \"\"\"\n",
        "    # Pré-processar o PDF\n",
        "    preprocessed_text = preprocess_pdf(pdf_path)\n",
        "\n",
        "    # Resumir o texto do PDF\n",
        "    summary_text = summarize_text(preprocessed_text)\n",
        "\n",
        "    # Iniciar a sessão de chat com o modelo Gemini\n",
        "    chat = genai.GenerativeModel('gemini-pro').start_chat(history=[])\n",
        "\n",
        "    # Enviar o prompt com o resumo do PDF como o texto inicial\n",
        "    response = chat.send_message(summary_text)\n",
        "\n",
        "\n",
        "\n",
        "    # Exibir o prompt inicial do chatbot\n",
        "    print(f\"Chatbot: {response.text}\")\n",
        "    # Perguntar ao usuário o que deseja saber sobre Finanças\n",
        "    print(\"Chatbot: O que você deseja saber sobre Finanças? Vamos utilizar o PDF guia de finanças como guia.\")\n",
        "\n",
        "\n",
        "    # Loop principal da conversa\n",
        "    # Loop principal da conversa\n",
        "    while True:\n",
        "      # Obter a entrada do usuário\n",
        "      user_input = input(\"Usuário: \")\n",
        "\n",
        "      # Truncate user input if it exceeds the limit\n",
        "      if len(user_input) > max_user_input_length:\n",
        "        user_input = user_input[:max_user_input_length]\n",
        "\n",
        "      # Processar a entrada do usuário e gerar uma resposta\n",
        "      response = chat.send_message(user_input)\n",
        "\n",
        "      # Exibir a resposta do chatbot\n",
        "      print(f\"Chatbot: {response.text}\")\n",
        "\n",
        "# Exemplo de uso\n",
        "pdf_path = 'guia-financas.pdf'  # Substituir pelo caminho do seu PDF\n",
        "chatbot_with_gemini(pdf_path)\n"
      ],
      "metadata": {
        "colab": {
          "base_uri": "https://localhost:8080/",
          "height": 1000
        },
        "id": "mevoSKJ5U1r0",
        "outputId": "d233e5ae-c1c2-4d3a-8c8d-82ab33129780"
      },
      "execution_count": null,
      "outputs": [
        {
          "output_type": "stream",
          "name": "stderr",
          "text": [
            "[nltk_data] Downloading package stopwords to /root/nltk_data...\n",
            "[nltk_data]   Package stopwords is already up-to-date!\n",
            "[nltk_data] Downloading package punkt to /root/nltk_data...\n",
            "[nltk_data]   Package punkt is already up-to-date!\n"
          ]
        },
        {
          "output_type": "stream",
          "name": "stdout",
          "text": [
            "Chatbot: **Perspectivas Adicionais de Especialistas**\n",
            "\n",
            "**Warren Buffett**\n",
            "\n",
            "* Ênfase em investir em empresas sólidas com vantagens competitivas duráveis.\n",
            "* Adoção de uma abordagem de longo prazo para investimentos.\n",
            "* Foco em ações subvalorizadas com preços abaixo do valor intrínseco.\n",
            "\n",
            "**Ray Dalio**\n",
            "\n",
            "* Importância da diversificação do portfólio.\n",
            "* Compreensão dos ciclos econômicos para o sucesso financeiro.\n",
            "* Uso de mega tendências para identificar oportunidades de investimento.\n",
            "\n",
            "**Adamoradan**\n",
            "\n",
            "* Importância de uma abordagem estratégica e diversificada para alocação de ativos.\n",
            "* Ênfase no gerenciamento de riscos e na maximização de retornos.\n",
            "* Uso de múltiplas ferramentas de avaliação para obter uma visão completa.\n",
            "\n",
            "**Conceitos Fundamentais de Avaliação Financeira**\n",
            "\n",
            "**Avaliação**\n",
            "\n",
            "* Estimar o valor de um ativo, como uma empresa ou ação.\n",
            "\n",
            "**Rentabilidade**\n",
            "\n",
            "* Capacidade de uma empresa de gerar lucro em relação a seus ativos, vendas ou patrimônio líquido.\n",
            "\n",
            "**Cálculo do Valor Presente**\n",
            "\n",
            "* Descontar fluxos de caixa futuros de volta ao valor presente usando uma taxa de desconto apropriada.\n",
            "\n",
            "**Métodos de Avaliação Mais Comuns**\n",
            "\n",
            "* Fluxo de Caixa Descontado (DCF)\n",
            "* Avaliação Relativa\n",
            "* Opções Reais\n",
            "\n",
            "**Análise de Demonstrações Financeiras**\n",
            "\n",
            "* Análise vertical: Comparação de valores dentro de uma demonstração financeira em relação a um valor base.\n",
            "* Análise horizontal: Comparação de valores entre demonstrações financeiras de diferentes períodos.\n",
            "\n",
            "**Ferramentas de Avaliação**\n",
            "\n",
            "* Planilhas eletrônicas\n",
            "* Softwares especializados\n",
            "* Linguagens de programação\n",
            "\n",
            "**Validação e Testes**\n",
            "\n",
            "* Teste dos modelos com dados históricos e cenários hipotéticos para verificar precisão e confiabilidade.\n",
            "Chatbot: O que você deseja saber sobre Finanças? Vamos utilizar o PDF guia de finanças como guia.\n",
            "Usuário: O que fala esse guia\n",
            "Chatbot: Este guia aborda os seguintes tópicos relacionados à análise financeira:\n",
            "\n",
            "* **Insights de especialistas renomados:** Warren Buffett, Ray Dalio e Aswath Damodaran.\n",
            "* **Conceitos fundamentais de avaliação financeira:** definição, rentabilidade e cálculo do valor presente.\n",
            "* **Métodos de avaliação mais comuns:** fluxo de caixa descontado (DCF), avaliação relativa e opções reais.\n",
            "* **Análise de demonstrações financeiras:** análise vertical e horizontal.\n",
            "* **Ferramentas de avaliação:** planilhas eletrônicas, softwares especializados e linguagens de programação.\n",
            "* **Validação e testes:** verificação da precisão e confiabilidade dos modelos.\n",
            "\n",
            "O guia também destaca a importância de considerar o contexto específico de uma empresa e seu setor ao realizar a análise financeira.\n",
            "\n",
            "**Objetivo do guia:**\n",
            "\n",
            "Fornecer uma compreensão abrangente dos princípios e práticas básicas da avaliação financeira, permitindo que os leitores tomem decisões de investimento mais informadas.\n",
            "Usuário: Resumi para mim e por onde eu poderia começar a investir a apartir dele\n",
            "Chatbot: **Resumo do Guia:**\n",
            "\n",
            "O guia aborda os fundamentos da avaliação financeira, incluindo conceitos, métodos e ferramentas. Ele destaca a importância de considerar o contexto específico de uma empresa e seu setor.\n",
            "\n",
            "**Como começar a investir com base no guia:**\n",
            "\n",
            "1. **Compreenda os conceitos básicos:** Familiarize-se com os conceitos fundamentais de avaliação financeira, como avaliação, rentabilidade e fluxo de caixa descontado.\n",
            "2. **Escolha um método de avaliação:** Selecione um método de avaliação adequado para o tipo de investimento que você está considerando. O fluxo de caixa descontado é um método comum para avaliar empresas, enquanto a avaliação relativa pode ser útil para comparar empresas semelhantes.\n",
            "3. **Reúna dados financeiros:** Obtenha demonstrações financeiras da empresa em que você está interessado. Esses dados podem ser encontrados em sites de empresas ou em bancos de dados financeiros.\n",
            "4. **Analise as demonstrações financeiras:** Analise as demonstrações financeiras da empresa usando técnicas de análise vertical e horizontal para identificar tendências e padrões.\n",
            "5. **Construa um modelo de avaliação:** Crie um modelo de avaliação usando uma ferramenta apropriada, como uma planilha eletrônica. Insira os dados financeiros e as suposições relevantes no modelo.\n",
            "6. **Valide e teste o modelo:** Teste o modelo com dados históricos e cenários hipotéticos para verificar sua precisão e confiabilidade.\n",
            "7. **Tome uma decisão de investimento:** Depois de concluir a avaliação, tome uma decisão informada sobre se deseja investir na empresa ou não.\n",
            "\n",
            "**Lembre-se:**\n",
            "\n",
            "* A avaliação financeira é uma ferramenta valiosa, mas não é uma ciência exata.\n",
            "* É importante considerar outros fatores além da avaliação financeira ao tomar decisões de investimento, como o setor da empresa, a equipe de gestão e as condições econômicas gerais.\n",
            "* Consulte um consultor financeiro se precisar de orientação ou assistência adicional.\n"
          ]
        }
      ]
    },
    {
      "cell_type": "code",
      "source": [],
      "metadata": {
        "id": "HSAp_2-Eo5zx"
      },
      "execution_count": null,
      "outputs": []
    }
  ]
}