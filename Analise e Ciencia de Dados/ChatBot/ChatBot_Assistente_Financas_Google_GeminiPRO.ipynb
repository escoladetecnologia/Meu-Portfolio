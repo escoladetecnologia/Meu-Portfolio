{
  "nbformat": 4,
  "nbformat_minor": 0,
  "metadata": {
    "colab": {
      "provenance": []
    },
    "kernelspec": {
      "name": "python3",
      "display_name": "Python 3"
    },
    "language_info": {
      "name": "python"
    }
  },
  "cells": [
    {
      "cell_type": "markdown",
      "source": [
        "# ChatBot Finanças Expert AI"
      ],
      "metadata": {
        "id": "v_VBO9dVO9Vo"
      }
    },
    {
      "cell_type": "markdown",
      "source": [
        "# 1. Instalação das Bibliotecas:"
      ],
      "metadata": {
        "id": "R2CV-d33POU2"
      }
    },
    {
      "cell_type": "code",
      "source": [
        "!pip install -q -U google-generativeai\n",
        "!pip install pdfplumber\n",
        "!pip install nltk\n",
        "!pip install numpy"
      ],
      "metadata": {
        "id": "s6pR7BOnPSBU"
      },
      "execution_count": null,
      "outputs": []
    },
    {
      "cell_type": "markdown",
      "source": [
        "# Chatbot Assistente de Finanças com Google Gemini Pro a partir de um PDF de Guia de Finanças\n",
        "\n",
        "O Código lê um PDF enviado para a raiz do sistema, ele tokeniza os textos e inseri no prompt do contexto da conversa do Gemini com  usuário. Interessante é que ele resumi textos complexos como esse Guia e traduz para o usuário poder conversar com o Chatbot. O grande desafio é a qualidade desse resumo e o maximo numero de Tokens que voce pode inserir no prompt, fizemos esse controle em max_user_input_length=256, pode-se testar diferente valores para testar o modelo.\n",
        "\n",
        "Sugestões e Melhorias, faça o Fork desse projeto e pode enviar melhorias para mim em meus contatos!\n",
        "\n",
        "Claudio M. Antonio - Dev"
      ],
      "metadata": {
        "id": "QcVGPvi4otq2"
      }
    },
    {
      "cell_type": "code",
      "source": [
        "import google.generativeai as genai\n",
        "import pdfplumber\n",
        "import nltk\n",
        "from nltk.corpus import stopwords\n",
        "from nltk.tokenize import word_tokenize, sent_tokenize\n",
        "from scipy.spatial.distance import cosine\n",
        "import numpy as np\n",
        "from google.colab import userdata\n",
        "# Carregar a chave da API Gemini (necessário para GenAI)\n",
        "api_key = userdata.get('GEMINI_KEY')\n",
        "genai.configure(api_key=api_key)  # Mantenha se quiser usar o GenAI\n",
        "\n",
        "def preprocess_pdf(pdf_path):\n",
        "    \"\"\"\n",
        "    Função para pré-processar o PDF.\n",
        "\n",
        "    Args:\n",
        "        pdf_path: Caminho para o arquivo PDF.\n",
        "\n",
        "    Returns:\n",
        "        str: Texto extraído do PDF.\n",
        "    \"\"\"\n",
        "    with open(pdf_path, 'rb') as pdf_file:\n",
        "        pdf = pdfplumber.open(pdf_file)\n",
        "        pdf_text = ''\n",
        "        for page in pdf.pages:\n",
        "            pdf_text += page.extract_text()\n",
        "    return pdf_text\n",
        "\n",
        "def summarize_text(text, ratio=0.2):\n",
        "    \"\"\"\n",
        "    Função para resumir o texto usando a biblioteca NLTK.\n",
        "\n",
        "    Args:\n",
        "        text: Texto a ser resumido.\n",
        "        ratio: Razão de compressão do resumo (entre 0 e 1).\n",
        "\n",
        "    Returns:\n",
        "        str: Texto resumido.\n",
        "    \"\"\"\n",
        "    # Download necessário apenas na primeira execução\n",
        "    nltk.download('stopwords')\n",
        "    nltk.download('punkt')\n",
        "\n",
        "    stop_words = stopwords.words('portuguese')\n",
        "    word_tokens = word_tokenize(text)\n",
        "    filtered_text = [word for word in word_tokens if word not in stop_words]\n",
        "    sentences = sent_tokenize(text)\n",
        "\n",
        "    sentence_vectors = []\n",
        "    for sentence in sentences:\n",
        "        sentence_words = word_tokenize(sentence.lower())\n",
        "        sentence_vec = []\n",
        "        for word in filtered_text:\n",
        "            if word in sentence_words:\n",
        "                sentence_vec.append(1)\n",
        "            else:\n",
        "                sentence_vec.append(0)\n",
        "        sentence_vectors.append(sentence_vec)\n",
        "\n",
        "    sentence_scores = np.apply_along_axis(lambda vec: cosine(vec, np.sum(sentence_vectors, axis=0)), axis=1, arr=np.array(sentence_vectors))\n",
        "    top_sentences = np.argsort(sentence_scores)[:int(len(sentences) * ratio)]\n",
        "    summary = ' '.join([sentences[idx] for idx in top_sentences])\n",
        "    return summary\n",
        "\n",
        "def chatbot_with_gemini(pdf_path, max_user_input_length=256):\n",
        "    \"\"\"\n",
        "    Função principal para interagir com o chatbot Gemini.\n",
        "\n",
        "    Args:\n",
        "        pdf_path: Caminho para o arquivo PDF.\n",
        "    \"\"\"\n",
        "    # Pré-processar o PDF\n",
        "    preprocessed_text = preprocess_pdf(pdf_path)\n",
        "\n",
        "    # Resumir o texto do PDF\n",
        "    summary_text = summarize_text(preprocessed_text)\n",
        "\n",
        "    # Iniciar a sessão de chat com o modelo Gemini\n",
        "    chat = genai.GenerativeModel('gemini-pro').start_chat(history=[])\n",
        "\n",
        "    # Enviar o prompt com o resumo do PDF como o texto inicial\n",
        "    response = chat.send_message(summary_text)\n",
        "\n",
        "\n",
        "\n",
        "    # Exibir o prompt inicial do chatbot\n",
        "    print(f\"Chatbot: {response.text}\")\n",
        "    # Perguntar ao usuário o que deseja saber sobre Finanças\n",
        "    print(\"Chatbot: O que você deseja saber sobre Finanças? Vamos utilizar o PDF guia de finanças como guia.\")\n",
        "\n",
        "\n",
        "    # Loop principal da conversa\n",
        "    # Loop principal da conversa\n",
        "    while True:\n",
        "      # Obter a entrada do usuário\n",
        "      user_input = input(\"Usuário: \")\n",
        "\n",
        "      # Truncate user input if it exceeds the limit\n",
        "      if len(user_input) > max_user_input_length:\n",
        "        user_input = user_input[:max_user_input_length]\n",
        "\n",
        "      # Processar a entrada do usuário e gerar uma resposta\n",
        "      response = chat.send_message(user_input)\n",
        "\n",
        "      # Exibir a resposta do chatbot\n",
        "      print(f\"Chatbot: {response.text}\")\n",
        "\n",
        "import requests\n",
        "\n",
        "# URL do arquivo PDF no GitHub\n",
        "pdf_url = \"https://github.com/upcarreira/Meu-Portfolio/raw/main/guia-financas.pdf\"\n",
        "\n",
        "# Caminho onde o PDF será salvo localmente\n",
        "pdf_local_path = \"guia-financas.pdf\"\n",
        "\n",
        "# Baixar o PDF\n",
        "response = requests.get(pdf_url)\n",
        "with open(pdf_local_path, \"wb\") as pdf_file:\n",
        "    pdf_file.write(response.content)\n",
        "\n",
        "# Chamar a função chatbot_with_gemini() com o caminho local do PDF\n",
        "chatbot_with_gemini(pdf_local_path)\n"
      ],
      "metadata": {
        "colab": {
          "base_uri": "https://localhost:8080/",
          "height": 856
        },
        "id": "mevoSKJ5U1r0",
        "outputId": "520d274e-82ce-4061-8520-0d08fe25a2ec"
      },
      "execution_count": 65,
      "outputs": [
        {
          "output_type": "stream",
          "name": "stderr",
          "text": [
            "[nltk_data] Downloading package stopwords to /root/nltk_data...\n",
            "[nltk_data]   Package stopwords is already up-to-date!\n",
            "[nltk_data] Downloading package punkt to /root/nltk_data...\n",
            "[nltk_data]   Package punkt is already up-to-date!\n"
          ]
        },
        {
          "output_type": "stream",
          "name": "stdout",
          "text": [
            "Chatbot: **Insights de Warren Buffett, Ray Dalio e Aswath Damodaran**\n",
            "\n",
            "**Warren Buffett**\n",
            "\n",
            "* Enfatiza investir em empresas sólidas com vantagens competitivas duradouras.\n",
            "* Manter uma abordagem de longo prazo para investimentos.\n",
            "* Berkshire Hathaway: conglomerado diversificado com negócios em diversos setores.\n",
            "* Círculo de competência: investe em áreas que entende completamente.\n",
            "* American Express: outra empresa de longa data no portfólio de Buffett, se beneficia de sua forte marca e rede global de pagamentos.\n",
            "\n",
            "**Ray Dalio**\n",
            "\n",
            "* Destaca a importância da diversificação de portfólio.\n",
            "* Compreender os ciclos econômicos é crucial para o sucesso financeiro.\n",
            "* Bridgewater Associates: maior fundo de hedge do mundo, conhecido por sua abordagem sistemática de investimentos.\n",
            "\n",
            "**Aswath Damodaran**\n",
            "\n",
            "* Especialista em finanças que oferece perspectivas únicas sobre alocação de ativos.\n",
            "* Enfatiza a importância de uma abordagem estratégica e diversificada.\n",
            "* Ferramentas de avaliação: modelos de fluxo de caixa descontado, simulações, avaliação relativa e opções reais.\n",
            "* Validação e testes: testa os modelos com dados históricos e cenários hipotéticos para garantir precisão e confiabilidade.\n",
            "Chatbot: O que você deseja saber sobre Finanças? Vamos utilizar o PDF guia de finanças como guia.\n"
          ]
        },
        {
          "output_type": "error",
          "ename": "KeyboardInterrupt",
          "evalue": "Interrupted by user",
          "traceback": [
            "\u001b[0;31m---------------------------------------------------------------------------\u001b[0m",
            "\u001b[0;31mKeyboardInterrupt\u001b[0m                         Traceback (most recent call last)",
            "\u001b[0;32m<ipython-input-65-ef18bf404abe>\u001b[0m in \u001b[0;36m<cell line: 123>\u001b[0;34m()\u001b[0m\n\u001b[1;32m    121\u001b[0m \u001b[0;34m\u001b[0m\u001b[0m\n\u001b[1;32m    122\u001b[0m \u001b[0;31m# Chamar a função chatbot_with_gemini() com o caminho local do PDF\u001b[0m\u001b[0;34m\u001b[0m\u001b[0;34m\u001b[0m\u001b[0m\n\u001b[0;32m--> 123\u001b[0;31m \u001b[0mchatbot_with_gemini\u001b[0m\u001b[0;34m(\u001b[0m\u001b[0mpdf_local_path\u001b[0m\u001b[0;34m)\u001b[0m\u001b[0;34m\u001b[0m\u001b[0;34m\u001b[0m\u001b[0m\n\u001b[0m",
            "\u001b[0;32m<ipython-input-65-ef18bf404abe>\u001b[0m in \u001b[0;36mchatbot_with_gemini\u001b[0;34m(pdf_path, max_user_input_length)\u001b[0m\n\u001b[1;32m     95\u001b[0m     \u001b[0;32mwhile\u001b[0m \u001b[0;32mTrue\u001b[0m\u001b[0;34m:\u001b[0m\u001b[0;34m\u001b[0m\u001b[0;34m\u001b[0m\u001b[0m\n\u001b[1;32m     96\u001b[0m       \u001b[0;31m# Obter a entrada do usuário\u001b[0m\u001b[0;34m\u001b[0m\u001b[0;34m\u001b[0m\u001b[0m\n\u001b[0;32m---> 97\u001b[0;31m       \u001b[0muser_input\u001b[0m \u001b[0;34m=\u001b[0m \u001b[0minput\u001b[0m\u001b[0;34m(\u001b[0m\u001b[0;34m\"Usuário: \"\u001b[0m\u001b[0;34m)\u001b[0m\u001b[0;34m\u001b[0m\u001b[0;34m\u001b[0m\u001b[0m\n\u001b[0m\u001b[1;32m     98\u001b[0m \u001b[0;34m\u001b[0m\u001b[0m\n\u001b[1;32m     99\u001b[0m       \u001b[0;31m# Truncate user input if it exceeds the limit\u001b[0m\u001b[0;34m\u001b[0m\u001b[0;34m\u001b[0m\u001b[0m\n",
            "\u001b[0;32m/usr/local/lib/python3.10/dist-packages/ipykernel/kernelbase.py\u001b[0m in \u001b[0;36mraw_input\u001b[0;34m(self, prompt)\u001b[0m\n\u001b[1;32m    849\u001b[0m                 \u001b[0;34m\"raw_input was called, but this frontend does not support input requests.\"\u001b[0m\u001b[0;34m\u001b[0m\u001b[0;34m\u001b[0m\u001b[0m\n\u001b[1;32m    850\u001b[0m             )\n\u001b[0;32m--> 851\u001b[0;31m         return self._input_request(str(prompt),\n\u001b[0m\u001b[1;32m    852\u001b[0m             \u001b[0mself\u001b[0m\u001b[0;34m.\u001b[0m\u001b[0m_parent_ident\u001b[0m\u001b[0;34m,\u001b[0m\u001b[0;34m\u001b[0m\u001b[0;34m\u001b[0m\u001b[0m\n\u001b[1;32m    853\u001b[0m             \u001b[0mself\u001b[0m\u001b[0;34m.\u001b[0m\u001b[0m_parent_header\u001b[0m\u001b[0;34m,\u001b[0m\u001b[0;34m\u001b[0m\u001b[0;34m\u001b[0m\u001b[0m\n",
            "\u001b[0;32m/usr/local/lib/python3.10/dist-packages/ipykernel/kernelbase.py\u001b[0m in \u001b[0;36m_input_request\u001b[0;34m(self, prompt, ident, parent, password)\u001b[0m\n\u001b[1;32m    893\u001b[0m             \u001b[0;32mexcept\u001b[0m \u001b[0mKeyboardInterrupt\u001b[0m\u001b[0;34m:\u001b[0m\u001b[0;34m\u001b[0m\u001b[0;34m\u001b[0m\u001b[0m\n\u001b[1;32m    894\u001b[0m                 \u001b[0;31m# re-raise KeyboardInterrupt, to truncate traceback\u001b[0m\u001b[0;34m\u001b[0m\u001b[0;34m\u001b[0m\u001b[0m\n\u001b[0;32m--> 895\u001b[0;31m                 \u001b[0;32mraise\u001b[0m \u001b[0mKeyboardInterrupt\u001b[0m\u001b[0;34m(\u001b[0m\u001b[0;34m\"Interrupted by user\"\u001b[0m\u001b[0;34m)\u001b[0m \u001b[0;32mfrom\u001b[0m \u001b[0;32mNone\u001b[0m\u001b[0;34m\u001b[0m\u001b[0;34m\u001b[0m\u001b[0m\n\u001b[0m\u001b[1;32m    896\u001b[0m             \u001b[0;32mexcept\u001b[0m \u001b[0mException\u001b[0m \u001b[0;32mas\u001b[0m \u001b[0me\u001b[0m\u001b[0;34m:\u001b[0m\u001b[0;34m\u001b[0m\u001b[0;34m\u001b[0m\u001b[0m\n\u001b[1;32m    897\u001b[0m                 \u001b[0mself\u001b[0m\u001b[0;34m.\u001b[0m\u001b[0mlog\u001b[0m\u001b[0;34m.\u001b[0m\u001b[0mwarning\u001b[0m\u001b[0;34m(\u001b[0m\u001b[0;34m\"Invalid Message:\"\u001b[0m\u001b[0;34m,\u001b[0m \u001b[0mexc_info\u001b[0m\u001b[0;34m=\u001b[0m\u001b[0;32mTrue\u001b[0m\u001b[0;34m)\u001b[0m\u001b[0;34m\u001b[0m\u001b[0;34m\u001b[0m\u001b[0m\n",
            "\u001b[0;31mKeyboardInterrupt\u001b[0m: Interrupted by user"
          ]
        }
      ]
    },
    {
      "cell_type": "code",
      "source": [],
      "metadata": {
        "id": "HSAp_2-Eo5zx"
      },
      "execution_count": null,
      "outputs": []
    }
  ]
}